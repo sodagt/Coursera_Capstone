{
    "cells": [
        {
            "metadata": {
                "collapsed": true
            },
            "cell_type": "markdown",
            "source": "# The Battle of Neighborhoods "
        },
        {
            "metadata": {},
            "cell_type": "markdown",
            "source": "## Introduction/Business Problem"
        },
        {
            "metadata": {},
            "cell_type": "markdown",
            "source": "We want to open a chinese chain restaurant in some town in France. We want to know where are the best departments to implant in the beginning and so know where will be the restaurant opened.\nFor this business problem, we will explore localisation data in order to use some informations like the density, the number of restaurants, etc"
        },
        {
            "metadata": {},
            "cell_type": "code",
            "source": "",
            "execution_count": null,
            "outputs": []
        },
        {
            "metadata": {},
            "cell_type": "markdown",
            "source": "## Data"
        },
        {
            "metadata": {},
            "cell_type": "markdown",
            "source": "For this, we will use a csv file with:\n- Department \n- Name : nom en majuscule et sans accent.\n- postal code : code postal de la ville. \n- Population en 2012 (approximatif) : valeur exprim\u00e9e en centaine\n- Density\n- Surface\n\nWe will use the foursquare API to have informations about the venues and to help us take the best places.",
            "attachments": {}
        },
        {
            "metadata": {},
            "cell_type": "code",
            "source": "",
            "execution_count": null,
            "outputs": []
        }
    ],
    "metadata": {
        "kernelspec": {
            "name": "python3",
            "display_name": "Python 3.6",
            "language": "python"
        },
        "language_info": {
            "name": "python",
            "version": "3.6.9",
            "mimetype": "text/x-python",
            "codemirror_mode": {
                "name": "ipython",
                "version": 3
            },
            "pygments_lexer": "ipython3",
            "nbconvert_exporter": "python",
            "file_extension": ".py"
        }
    },
    "nbformat": 4,
    "nbformat_minor": 1
}